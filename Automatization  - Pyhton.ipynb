{
 "cells": [
  {
   "cell_type": "markdown",
   "metadata": {},
   "source": [
    "# Automação de Sistemas - Python\n",
    "\n",
    "\n",
    "Enviar um E-mail para determinado setor: seugmail+setor@gmail.com<br>\n",
    "Local onde o sistema disponibiliza as vendas do dia anterior: \n",
    "https://www.kaggle.com/datasets\n",
    "\n",
    "Para resolver isso, vamos usar o pyautogui, uma biblioteca de automação de comandos do mouse e do teclado"
   ]
  },
  {
   "cell_type": "code",
   "execution_count": 30,
   "metadata": {},
   "outputs": [],
   "source": [
    "import pyautogui\n",
    "import time\n",
    "import pyperclip\n",
    "\n",
    "pyautogui.PAUSE = 1\n",
    "\n",
    "#Passo 1: abrir uma nova aba\n",
    "pyautogui.hotkey('ctrl','t')\n",
    "\n",
    "\n",
    "link='https://drive.google.com/drive/folders/149xknr9JvrlEnhNWO49zPcw0PW5icxga?usp=sharing'\n",
    "pyperclip.copy(link)\n",
    "pyautogui.hotkey('ctrl','v')\n",
    "pyautogui.press('enter')\n",
    "\n",
    "#passo 2: acessar a pasta \"Exportar\"\n",
    "time.sleep(6)\n",
    "pyautogui.click(438,312, clicks=2)\n",
    "\n",
    "#passo3: acessa o arquivo \n",
    "time.sleep(2)\n",
    "pyautogui.click(427,319) #clicar no arquivo \"Vendas - Dez.xlsx\"\n",
    "time.sleep(1)\n",
    "pyautogui.click(1673,197) #clicar nos 3 pontos\n",
    "time.sleep(1)\n",
    "pyautogui.click(1404,705) #clicar no download\n",
    "time.sleep(6)"
   ]
  },
  {
   "cell_type": "markdown",
   "metadata": {},
   "source": [
    "### Vamos agora ler o arquivo baixado para pegar os indicadores\n",
    "\n",
    "- Faturamento\n",
    "- Quantidade de Produtos"
   ]
  },
  {
   "cell_type": "code",
   "execution_count": 31,
   "metadata": {},
   "outputs": [],
   "source": [
    "#Passo4: acessar e manipular a planilha de dados\n",
    "import pandas as pd\n",
    "\n",
    "tabela = pd.read_excel(r\"C:\\Users\\diretório usuário\\Downloads\\Vendas - Dez.xlsx\")#utilizar o seu endereço de acesso a pasta\n",
    "faturamento = tabela[\"Valor Final\"].sum() #soma a coluna tabela\n",
    "quantidade = tabela[\"Quantidade\"].sum() #soma a coluna Quantidade\n",
    "#display(tabela)\n",
    "#print(faturamento)\n",
    "#print(quantidade)\n",
    "\n",
    "\n"
   ]
  },
  {
   "cell_type": "markdown",
   "metadata": {},
   "source": [
    "### Enviando um e-mail pelo gmail"
   ]
  },
  {
   "cell_type": "code",
   "execution_count": 33,
   "metadata": {},
   "outputs": [],
   "source": [
    "#passo5: acessar o gmail e enviar o e-mail\n",
    "\n",
    "# abrir uma aba no navegador\n",
    "pyautogui.hotkey('ctrl','t')\n",
    "\n",
    "#entrar no gmail:\n",
    "link = \"https://mail.google.com/mail/u/0/#inbox\"\n",
    "pyperclip.copy(link)\n",
    "pyautogui.hotkey('ctrl','v')\n",
    "pyautogui.press('enter')\n",
    "time.sleep(7)\n",
    "\n",
    "#clicar no botão \"escrever\":\n",
    "pyautogui.click(139,205)\n",
    "time.sleep(3)\n",
    "\n",
    "#digitar para quem iremo enviar:\n",
    "pyautogui.write(\"abcd+teste@gmail.com\")\n",
    "time.sleep(2)\n",
    "pyautogui.press('tab') #escolher o email\n",
    "time.sleep(1)\n",
    "pyautogui.press('tab') #passar para o campo \"assunto\"\n",
    "time.sleep(1)\n",
    "\n",
    "#digitar o assunto\n",
    "#pyautogui.write(\"Relatório de Vendas\")- como tem caracter especial, faremos de outra maneira\n",
    "assunto = \"Relatório de Vendas\"\n",
    "pyperclip.copy(assunto)\n",
    "pyautogui.hotkey('ctrl','v')\n",
    "pyautogui.press('tab') #passar para o campo de \"descrição do texto\". Escrever o e-mail\n",
    "time.sleep(1)\n",
    "\n",
    "#digitar o assunto (corpo do e-mail)\n",
    "# colocando um \"f\" na frente do texto, garante que será possível inserir variável dentro do texto\n",
    "\n",
    "texto_email = f\"\"\"\n",
    "Prezados, bom dia\n",
    "\n",
    "O faturamento de ontem foi de: R${faturamento:,.2f}\n",
    "A quantidade do produto foi de: {quantidade}\n",
    "\n",
    "Abs\n",
    "Daniel Matos\n",
    "\"\"\"\n",
    "pyautogui.write(texto_email)\n",
    "time.sleep(2)\n",
    "\n",
    "#clicar em \"Enviar\"\n",
    "pyautogui.hotkey('ctrl','enter')\n",
    "\n",
    "\n"
   ]
  },
  {
   "cell_type": "markdown",
   "metadata": {},
   "source": [
    "#### Utilize os códigos abaixo para encontrar a posição de um item que deseje clicar na tela"
   ]
  },
  {
   "cell_type": "code",
   "execution_count": 19,
   "metadata": {},
   "outputs": [
    {
     "data": {
      "text/plain": [
       "Point(x=139, y=205)"
      ]
     },
     "execution_count": 19,
     "metadata": {},
     "output_type": "execute_result"
    }
   ],
   "source": [
    "time.sleep(6)\n",
    "pyautogui.position()"
   ]
  }
 ],
 "metadata": {
  "kernelspec": {
   "display_name": "Python 3",
   "language": "python",
   "name": "python3"
  },
  "language_info": {
   "codemirror_mode": {
    "name": "ipython",
    "version": 3
   },
   "file_extension": ".py",
   "mimetype": "text/x-python",
   "name": "python",
   "nbconvert_exporter": "python",
   "pygments_lexer": "ipython3",
   "version": "3.7.10"
  }
 },
 "nbformat": 4,
 "nbformat_minor": 4
}
